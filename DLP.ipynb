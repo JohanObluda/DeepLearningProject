{
  "nbformat": 4,
  "nbformat_minor": 0,
  "metadata": {
    "colab": {
      "name": "Untitled0.ipynb",
      "provenance": [],
      "authorship_tag": "ABX9TyPRUBXq1/L08/kpgkQv/U5W",
      "include_colab_link": true
    },
    "kernelspec": {
      "name": "python3",
      "display_name": "Python 3"
    },
    "accelerator": "TPU"
  },
  "cells": [
    {
      "cell_type": "markdown",
      "metadata": {
        "id": "view-in-github",
        "colab_type": "text"
      },
      "source": [
        "<a href=\"https://colab.research.google.com/github/JohanObluda/DeepLearningProject/blob/master/DLP.ipynb\" target=\"_parent\"><img src=\"https://colab.research.google.com/assets/colab-badge.svg\" alt=\"Open In Colab\"/></a>"
      ]
    },
    {
      "cell_type": "markdown",
      "metadata": {
        "id": "uusZ1QWezpiG",
        "colab_type": "text"
      },
      "source": [
        "Install packages\n"
      ]
    },
    {
      "cell_type": "code",
      "metadata": {
        "id": "khJ00KkZx4EM",
        "colab_type": "code",
        "outputId": "e87e7714-9cf1-4330-e2e3-e7bfce6168a4",
        "colab": {
          "base_uri": "https://localhost:8080/",
          "height": 255
        }
      },
      "source": [
        "# import keras as kr\n",
        "!pip install glove\n",
        "\n"
      ],
      "execution_count": 0,
      "outputs": [
        {
          "output_type": "stream",
          "text": [
            "Collecting glove\n",
            "\u001b[?25l  Downloading https://files.pythonhosted.org/packages/8a/c9/17c400d0c29746162bd47fc719bf3212b2b031949d41d712e9bdef11ae03/glove-1.0.2.tar.gz (44kB)\n",
            "\r\u001b[K     |███████▎                        | 10kB 18.2MB/s eta 0:00:01\r\u001b[K     |██████████████▋                 | 20kB 2.2MB/s eta 0:00:01\r\u001b[K     |██████████████████████          | 30kB 2.9MB/s eta 0:00:01\r\u001b[K     |█████████████████████████████▏  | 40kB 2.1MB/s eta 0:00:01\r\u001b[K     |████████████████████████████████| 51kB 1.9MB/s \n",
            "\u001b[?25hRequirement already satisfied: numpy in /usr/local/lib/python3.6/dist-packages (from glove) (1.17.5)\n",
            "Building wheels for collected packages: glove\n",
            "  Building wheel for glove (setup.py) ... \u001b[?25lerror\n",
            "\u001b[31m  ERROR: Failed building wheel for glove\u001b[0m\n",
            "\u001b[?25h  Running setup.py clean for glove\n",
            "Failed to build glove\n",
            "Installing collected packages: glove\n",
            "    Running setup.py install for glove ... \u001b[?25l\u001b[?25herror\n",
            "\u001b[31mERROR: Command errored out with exit status 1: /usr/bin/python3 -u -c 'import sys, setuptools, tokenize; sys.argv[0] = '\"'\"'/tmp/pip-install-3fc_liww/glove/setup.py'\"'\"'; __file__='\"'\"'/tmp/pip-install-3fc_liww/glove/setup.py'\"'\"';f=getattr(tokenize, '\"'\"'open'\"'\"', open)(__file__);code=f.read().replace('\"'\"'\\r\\n'\"'\"', '\"'\"'\\n'\"'\"');f.close();exec(compile(code, __file__, '\"'\"'exec'\"'\"'))' install --record /tmp/pip-record-gf3o7two/install-record.txt --single-version-externally-managed --compile Check the logs for full command output.\u001b[0m\n"
          ],
          "name": "stdout"
        }
      ]
    }
  ]
}